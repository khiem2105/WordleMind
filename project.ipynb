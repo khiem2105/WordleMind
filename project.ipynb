{
 "cells": [
  {
   "cell_type": "markdown",
   "metadata": {},
   "source": [
    "## <center>Projet RP</center>"
   ]
  },
  {
   "cell_type": "code",
   "execution_count": 128,
   "metadata": {},
   "outputs": [],
   "source": [
    "import os\n",
    "import random\n",
    "from itertools import combinations\n",
    "from collections import Counter\n",
    "from copy import deepcopy\n",
    "\n",
    "def get_words(file=\"dico.txt\"):\n",
    "    words = []\n",
    "    file_path = os.getcwd() + \"/\" + file\n",
    "    with open(file_path, \"r\") as f:\n",
    "        for line in f.readlines():\n",
    "            words.append(line[:-1])\n",
    "\n",
    "    return words\n"
   ]
  },
  {
   "cell_type": "code",
   "execution_count": 215,
   "metadata": {},
   "outputs": [],
   "source": [
    "def get_secret_word(words, n):\n",
    "    words_n = [w for w in words if len(w) == n]\n",
    "    return words_n[random.randint(0, len(words_n))]"
   ]
  },
  {
   "cell_type": "code",
   "execution_count": 187,
   "metadata": {},
   "outputs": [
    {
     "name": "stdout",
     "output_type": "stream",
     "text": [
      "funnel\n"
     ]
    }
   ],
   "source": [
    "words = get_words()\n",
    "secret_word = get_secret_word(words)\n",
    "\n",
    "print(secret_word)"
   ]
  },
  {
   "cell_type": "code",
   "execution_count": 89,
   "metadata": {},
   "outputs": [],
   "source": [
    "def compare_string(word, secret_word):\n",
    "    right, wrong = 0, 0\n",
    "    \n",
    "    for i in range(len(word)):\n",
    "        if word[i] == secret_word[i]:\n",
    "            right += 1\n",
    "        elif word[i] in secret_word:\n",
    "            wrong += 1\n",
    "\n",
    "    return right, wrong"
   ]
  },
  {
   "cell_type": "code",
   "execution_count": 90,
   "metadata": {},
   "outputs": [],
   "source": [
    "def generate_letter_list(word):\n",
    "    return [(word[i], i) for i in range(len(word))]\n",
    "\n",
    "def generate_frequency_list(word):\n",
    "    return dict(Counter(word))\n",
    "\n",
    "def check_occurence(wrong_letters_occurence, right_letters_occurence, occurence_list):\n",
    "    for l, o in wrong_letters_occurence.items():\n",
    "        if l in right_letters_occurence:\n",
    "            if o + right_letters_occurence[l] != occurence_list[l]:\n",
    "                return False\n",
    "        else:\n",
    "            if o != occurence_list[l]:\n",
    "                return False\n",
    "\n",
    "    return True"
   ]
  },
  {
   "cell_type": "code",
   "execution_count": 91,
   "metadata": {},
   "outputs": [
    {
     "name": "stdout",
     "output_type": "stream",
     "text": [
      "t 2\n",
      "a 1\n",
      "r 1\n",
      "e 1\n"
     ]
    }
   ],
   "source": [
    "d = generate_frequency_list(\"tarte\")\n",
    "for l, o in d.items():\n",
    "    print(l, o)"
   ]
  },
  {
   "cell_type": "code",
   "execution_count": 92,
   "metadata": {},
   "outputs": [
    {
     "data": {
      "text/plain": [
       "[('t', 0), ('a', 1), ('r', 2), ('t', 3), ('e', 4)]"
      ]
     },
     "execution_count": 92,
     "metadata": {},
     "output_type": "execute_result"
    }
   ],
   "source": [
    "generate_letter_list(\"tarte\")"
   ]
  },
  {
   "cell_type": "code",
   "execution_count": 93,
   "metadata": {},
   "outputs": [],
   "source": [
    "from itertools import combinations\n",
    "\n",
    "def generate_constraint(word, right, wrong):\n",
    "    index_list = generate_letter_list(word)\n",
    "    occurence_list = generate_frequency_list(word)\n",
    "\n",
    "    constraints = []\n",
    "    for right_assigns in combinations(index_list, right):        \n",
    "        right_letters = [a[0] for a in right_assigns]\n",
    "        right_letters_occurence = generate_frequency_list(right_letters)\n",
    "\n",
    "        left_index = [index for index in index_list if index not in right_assigns]\n",
    "        left_letters = [i[0] for i in left_index]\n",
    "\n",
    "        for wrong_assigns in combinations(left_index, wrong):\n",
    "            constraint = dict()\n",
    "            constraint[\"right\"] = list(right_assigns)\n",
    "            wrong_letters = [a[0] for a in wrong_assigns]\n",
    "            wrong_letters_occurence = generate_frequency_list(wrong_letters)\n",
    "\n",
    "            intersections = set(left_letters).intersection(set(right_letters))\n",
    "\n",
    "            if not intersections.issubset(wrong_letters):\n",
    "                continue\n",
    "            \n",
    "            if not check_occurence(wrong_letters_occurence, right_letters_occurence, occurence_list):\n",
    "                continue\n",
    "            \n",
    "            \n",
    "            constraint[\"wrong\"] = list(wrong_assigns)\n",
    "            # constraint[\"not_in\"] = tuple((i, c) for i,c in index_list if (i, c) not in wrong_assigns and (i,c) not in right_assigns and \n",
    "            #                             i not in right_letters and i not in wrong_letters)\n",
    "            constraint[\"not_in\"] = list(set(i for i, c in index_list if (i, c) not in wrong_assigns and (i,c) not in right_assigns and \n",
    "                                        i not in right_letters and i not in wrong_letters))\n",
    "\n",
    "            constraints.append(constraint)\n",
    "\n",
    "\n",
    "\n",
    "    return constraints\n",
    "\n"
   ]
  },
  {
   "cell_type": "code",
   "execution_count": 94,
   "metadata": {},
   "outputs": [
    {
     "data": {
      "text/plain": [
       "[{'right': [('t', 0), ('a', 1)], 'wrong': [('t', 3)], 'not_in': ['r', 'e']},\n",
       " {'right': [('t', 0), ('r', 2)], 'wrong': [('t', 3)], 'not_in': ['a', 'e']},\n",
       " {'right': [('t', 0), ('t', 3)], 'wrong': [('a', 1)], 'not_in': ['r', 'e']},\n",
       " {'right': [('t', 0), ('t', 3)], 'wrong': [('r', 2)], 'not_in': ['a', 'e']},\n",
       " {'right': [('t', 0), ('t', 3)], 'wrong': [('e', 4)], 'not_in': ['r', 'a']},\n",
       " {'right': [('t', 0), ('e', 4)], 'wrong': [('t', 3)], 'not_in': ['r', 'a']},\n",
       " {'right': [('a', 1), ('r', 2)], 'wrong': [('e', 4)], 'not_in': ['t']},\n",
       " {'right': [('a', 1), ('t', 3)], 'wrong': [('t', 0)], 'not_in': ['r', 'e']},\n",
       " {'right': [('a', 1), ('e', 4)], 'wrong': [('r', 2)], 'not_in': ['t']},\n",
       " {'right': [('r', 2), ('t', 3)], 'wrong': [('t', 0)], 'not_in': ['a', 'e']},\n",
       " {'right': [('r', 2), ('e', 4)], 'wrong': [('a', 1)], 'not_in': ['t']},\n",
       " {'right': [('t', 3), ('e', 4)], 'wrong': [('t', 0)], 'not_in': ['r', 'a']}]"
      ]
     },
     "execution_count": 94,
     "metadata": {},
     "output_type": "execute_result"
    }
   ],
   "source": [
    "generate_constraint(\"tarte\", 2, 1)"
   ]
  },
  {
   "cell_type": "code",
   "execution_count": 95,
   "metadata": {},
   "outputs": [],
   "source": [
    "def build_word_from_instanciation(instanciation):\n",
    "    return \"\".join(instanciation.values())"
   ]
  },
  {
   "cell_type": "code",
   "execution_count": 96,
   "metadata": {},
   "outputs": [],
   "source": [
    "def check_wrong_index(wrong_assigns, word):\n",
    "    for wrong_assign in wrong_assigns:\n",
    "        indices_in_word = [i for i, c in enumerate(word) if c == wrong_assign[0]]\n",
    "        if len(indices_in_word) == 0 or (wrong_assign[1] in indices_in_word and len(indices_in_word) == 1):\n",
    "            return False \n",
    "\n",
    "    return True"
   ]
  },
  {
   "cell_type": "code",
   "execution_count": 97,
   "metadata": {},
   "outputs": [],
   "source": [
    "def check_compatible_words(word1, word2, right, wrong):\n",
    "    constraints = generate_constraint(word2, right, wrong)\n",
    "    letter_list = generate_letter_list(word1)\n",
    "    for constraint in constraints:\n",
    "        right_assigns = constraint[\"right\"]\n",
    "        wrong_assigns = constraint[\"wrong\"]\n",
    "    \n",
    "        not_in = constraint[\"not_in\"]\n",
    "\n",
    "        if set(right_assigns).issubset(letter_list) and check_wrong_index(wrong_assigns, word1) and all(c not in word1 for c in not_in):\n",
    "            return True\n",
    "\n",
    "    return False\n"
   ]
  },
  {
   "cell_type": "code",
   "execution_count": 158,
   "metadata": {},
   "outputs": [],
   "source": [
    "def check_compatible(instanciation, words, proposed_words, secret_word, domains):\n",
    "    valid_words_from_instanciation = [w for w in words if w[:max(instanciation.keys()) + 1] == build_word_from_instanciation(instanciation) and len(w) == len(secret_word)]\n",
    "    # print(valid_words_from_instanciation)\n",
    "\n",
    "    compatible_words = []\n",
    "    new_domains = deepcopy(domains)\n",
    "\n",
    "    for w in valid_words_from_instanciation:\n",
    "        # print(f\"word: {w}\")\n",
    "        is_compatible = True\n",
    "        for proposed_w in proposed_words:\n",
    "            # print(f\"proposed word: {proposed_w}, secret_word: {secret_word}\")\n",
    "            right, wrong = compare_string(proposed_w, secret_word)\n",
    "            # print(f\"right: {right}, wrong: {wrong}\")\n",
    "            if not check_compatible_words(w, proposed_w, right, wrong):\n",
    "                is_compatible = False\n",
    "                break\n",
    "        \n",
    "        # print(f\"{w} is compatible: {is_compatible}\")\n",
    "        if is_compatible:\n",
    "            compatible_words.append(w)\n",
    "\n",
    "    # print(compatible_words)\n",
    "\n",
    "    if len(compatible_words) == 0:\n",
    "        return False, new_domains\n",
    "    else:\n",
    "        for i in range(max(instanciation.keys())+1, len(domains)):\n",
    "            new_domains[i] = list(set(w[i] for w in compatible_words))\n",
    "\n",
    "        return True, new_domains\n",
    "                "
   ]
  },
  {
   "cell_type": "code",
   "execution_count": 211,
   "metadata": {},
   "outputs": [],
   "source": [
    "def backtracking(words, secret_word, proposed_words, V, domains, instanciation={}):\n",
    "    if len(V) == 0:\n",
    "        return build_word_from_instanciation(instanciation)\n",
    "    \n",
    "    next = V[0]\n",
    "    for value in domains[next]:\n",
    "        instanciation[next] = value\n",
    "        # print(instanciation)\n",
    "        is_compatible, new_domains = check_compatible(instanciation, words, proposed_words, secret_word, domains)\n",
    "        if is_compatible:\n",
    "            result = backtracking(words, secret_word, proposed_words, V[1:], new_domains, deepcopy(instanciation))\n",
    "            if result is not False and result in words:\n",
    "                # print(result)\n",
    "                compatible = True\n",
    "                for proposed_w in proposed_words:\n",
    "                    right, wrong = compare_string(proposed_w, secret_word)\n",
    "                    if not check_compatible_words(result, proposed_w, right, wrong):\n",
    "                        compatible = False\n",
    "                        break\n",
    "                if compatible:            \n",
    "                    return result\n",
    "\n",
    "    return False\n",
    "        \n",
    "    \n",
    "    \n",
    "    "
   ]
  },
  {
   "cell_type": "code",
   "execution_count": 218,
   "metadata": {},
   "outputs": [],
   "source": [
    "def solve_worlde(secret_word, words=words, verbose=True):\n",
    "    n = len(secret_word)\n",
    "\n",
    "    V = [i for i in range(n)]\n",
    "    domains = [[chr(i) for i in range(97, 123)] for _ in range(n)]\n",
    "\n",
    "    n_try = 1\n",
    "    proposed_words = []\n",
    "\n",
    "    next = backtracking(words, secret_word, proposed_words, V, domains)\n",
    "    if verbose:\n",
    "        print(f\"Try {n_try}: {next}\")\n",
    "    while next != secret_word:\n",
    "        proposed_words.append(next)\n",
    "        next = backtracking(words, secret_word, proposed_words, V, domains)\n",
    "        n_try += 1\n",
    "        if verbose:\n",
    "            print(f\"Try {n_try}: {next}\")\n",
    "\n",
    "    return n_try\n",
    "\n",
    "\n"
   ]
  },
  {
   "cell_type": "code",
   "execution_count": 229,
   "metadata": {},
   "outputs": [
    {
     "name": "stdout",
     "output_type": "stream",
     "text": [
      "4:\n",
      "+\n",
      ".\n",
      ".\n"
     ]
    },
    {
     "ename": "KeyboardInterrupt",
     "evalue": "",
     "output_type": "error",
     "traceback": [
      "\u001b[0;31m---------------------------------------------------------------------------\u001b[0m",
      "\u001b[0;31mKeyboardInterrupt\u001b[0m                         Traceback (most recent call last)",
      "\u001b[0;32m/tmp/ipykernel_8082/2375243333.py\u001b[0m in \u001b[0;36m<module>\u001b[0;34m\u001b[0m\n\u001b[1;32m     14\u001b[0m         \u001b[0msecret_word\u001b[0m \u001b[0;34m=\u001b[0m \u001b[0mget_secret_word\u001b[0m\u001b[0;34m(\u001b[0m\u001b[0mwords\u001b[0m\u001b[0;34m,\u001b[0m \u001b[0mn\u001b[0m\u001b[0;34m)\u001b[0m\u001b[0;34m\u001b[0m\u001b[0;34m\u001b[0m\u001b[0m\n\u001b[1;32m     15\u001b[0m         \u001b[0mstart\u001b[0m \u001b[0;34m=\u001b[0m \u001b[0mtime\u001b[0m\u001b[0;34m.\u001b[0m\u001b[0mtime\u001b[0m\u001b[0;34m(\u001b[0m\u001b[0;34m)\u001b[0m\u001b[0;34m\u001b[0m\u001b[0;34m\u001b[0m\u001b[0m\n\u001b[0;32m---> 16\u001b[0;31m         \u001b[0mn_try\u001b[0m\u001b[0;34m[\u001b[0m\u001b[0mn\u001b[0m\u001b[0;34m]\u001b[0m \u001b[0;34m+=\u001b[0m \u001b[0msolve_worlde\u001b[0m\u001b[0;34m(\u001b[0m\u001b[0msecret_word\u001b[0m\u001b[0;34m,\u001b[0m \u001b[0mverbose\u001b[0m\u001b[0;34m=\u001b[0m\u001b[0;32mFalse\u001b[0m\u001b[0;34m)\u001b[0m\u001b[0;34m\u001b[0m\u001b[0;34m\u001b[0m\u001b[0m\n\u001b[0m\u001b[1;32m     17\u001b[0m         \u001b[0mtimes\u001b[0m\u001b[0;34m[\u001b[0m\u001b[0mn\u001b[0m\u001b[0;34m]\u001b[0m \u001b[0;34m+=\u001b[0m \u001b[0mtime\u001b[0m\u001b[0;34m.\u001b[0m\u001b[0mtime\u001b[0m\u001b[0;34m(\u001b[0m\u001b[0;34m)\u001b[0m \u001b[0;34m-\u001b[0m \u001b[0mstart\u001b[0m\u001b[0;34m\u001b[0m\u001b[0;34m\u001b[0m\u001b[0m\n\u001b[1;32m     18\u001b[0m \u001b[0;34m\u001b[0m\u001b[0m\n",
      "\u001b[0;32m/tmp/ipykernel_8082/1205384561.py\u001b[0m in \u001b[0;36msolve_worlde\u001b[0;34m(secret_word, words, verbose)\u001b[0m\n\u001b[1;32m     13\u001b[0m     \u001b[0;32mwhile\u001b[0m \u001b[0mnext\u001b[0m \u001b[0;34m!=\u001b[0m \u001b[0msecret_word\u001b[0m\u001b[0;34m:\u001b[0m\u001b[0;34m\u001b[0m\u001b[0;34m\u001b[0m\u001b[0m\n\u001b[1;32m     14\u001b[0m         \u001b[0mproposed_words\u001b[0m\u001b[0;34m.\u001b[0m\u001b[0mappend\u001b[0m\u001b[0;34m(\u001b[0m\u001b[0mnext\u001b[0m\u001b[0;34m)\u001b[0m\u001b[0;34m\u001b[0m\u001b[0;34m\u001b[0m\u001b[0m\n\u001b[0;32m---> 15\u001b[0;31m         \u001b[0mnext\u001b[0m \u001b[0;34m=\u001b[0m \u001b[0mbacktracking\u001b[0m\u001b[0;34m(\u001b[0m\u001b[0mwords\u001b[0m\u001b[0;34m,\u001b[0m \u001b[0msecret_word\u001b[0m\u001b[0;34m,\u001b[0m \u001b[0mproposed_words\u001b[0m\u001b[0;34m,\u001b[0m \u001b[0mV\u001b[0m\u001b[0;34m,\u001b[0m \u001b[0mdomains\u001b[0m\u001b[0;34m)\u001b[0m\u001b[0;34m\u001b[0m\u001b[0;34m\u001b[0m\u001b[0m\n\u001b[0m\u001b[1;32m     16\u001b[0m         \u001b[0mn_try\u001b[0m \u001b[0;34m+=\u001b[0m \u001b[0;36m1\u001b[0m\u001b[0;34m\u001b[0m\u001b[0;34m\u001b[0m\u001b[0m\n\u001b[1;32m     17\u001b[0m         \u001b[0;32mif\u001b[0m \u001b[0mverbose\u001b[0m\u001b[0;34m:\u001b[0m\u001b[0;34m\u001b[0m\u001b[0;34m\u001b[0m\u001b[0m\n",
      "\u001b[0;32m/tmp/ipykernel_8082/3091969294.py\u001b[0m in \u001b[0;36mbacktracking\u001b[0;34m(words, secret_word, proposed_words, V, domains, instanciation)\u001b[0m\n\u001b[1;32m      7\u001b[0m         \u001b[0minstanciation\u001b[0m\u001b[0;34m[\u001b[0m\u001b[0mnext\u001b[0m\u001b[0;34m]\u001b[0m \u001b[0;34m=\u001b[0m \u001b[0mvalue\u001b[0m\u001b[0;34m\u001b[0m\u001b[0;34m\u001b[0m\u001b[0m\n\u001b[1;32m      8\u001b[0m         \u001b[0;31m# print(instanciation)\u001b[0m\u001b[0;34m\u001b[0m\u001b[0;34m\u001b[0m\u001b[0;34m\u001b[0m\u001b[0m\n\u001b[0;32m----> 9\u001b[0;31m         \u001b[0mis_compatible\u001b[0m\u001b[0;34m,\u001b[0m \u001b[0mnew_domains\u001b[0m \u001b[0;34m=\u001b[0m \u001b[0mcheck_compatible\u001b[0m\u001b[0;34m(\u001b[0m\u001b[0minstanciation\u001b[0m\u001b[0;34m,\u001b[0m \u001b[0mwords\u001b[0m\u001b[0;34m,\u001b[0m \u001b[0mproposed_words\u001b[0m\u001b[0;34m,\u001b[0m \u001b[0msecret_word\u001b[0m\u001b[0;34m,\u001b[0m \u001b[0mdomains\u001b[0m\u001b[0;34m)\u001b[0m\u001b[0;34m\u001b[0m\u001b[0;34m\u001b[0m\u001b[0m\n\u001b[0m\u001b[1;32m     10\u001b[0m         \u001b[0;32mif\u001b[0m \u001b[0mis_compatible\u001b[0m\u001b[0;34m:\u001b[0m\u001b[0;34m\u001b[0m\u001b[0;34m\u001b[0m\u001b[0m\n\u001b[1;32m     11\u001b[0m             \u001b[0mresult\u001b[0m \u001b[0;34m=\u001b[0m \u001b[0mbacktracking\u001b[0m\u001b[0;34m(\u001b[0m\u001b[0mwords\u001b[0m\u001b[0;34m,\u001b[0m \u001b[0msecret_word\u001b[0m\u001b[0;34m,\u001b[0m \u001b[0mproposed_words\u001b[0m\u001b[0;34m,\u001b[0m \u001b[0mV\u001b[0m\u001b[0;34m[\u001b[0m\u001b[0;36m1\u001b[0m\u001b[0;34m:\u001b[0m\u001b[0;34m]\u001b[0m\u001b[0;34m,\u001b[0m \u001b[0mnew_domains\u001b[0m\u001b[0;34m,\u001b[0m \u001b[0mdeepcopy\u001b[0m\u001b[0;34m(\u001b[0m\u001b[0minstanciation\u001b[0m\u001b[0;34m)\u001b[0m\u001b[0;34m)\u001b[0m\u001b[0;34m\u001b[0m\u001b[0;34m\u001b[0m\u001b[0m\n",
      "\u001b[0;32m/tmp/ipykernel_8082/2304283342.py\u001b[0m in \u001b[0;36mcheck_compatible\u001b[0;34m(instanciation, words, proposed_words, secret_word, domains)\u001b[0m\n\u001b[1;32m      1\u001b[0m \u001b[0;32mdef\u001b[0m \u001b[0mcheck_compatible\u001b[0m\u001b[0;34m(\u001b[0m\u001b[0minstanciation\u001b[0m\u001b[0;34m,\u001b[0m \u001b[0mwords\u001b[0m\u001b[0;34m,\u001b[0m \u001b[0mproposed_words\u001b[0m\u001b[0;34m,\u001b[0m \u001b[0msecret_word\u001b[0m\u001b[0;34m,\u001b[0m \u001b[0mdomains\u001b[0m\u001b[0;34m)\u001b[0m\u001b[0;34m:\u001b[0m\u001b[0;34m\u001b[0m\u001b[0;34m\u001b[0m\u001b[0m\n\u001b[0;32m----> 2\u001b[0;31m     \u001b[0mvalid_words_from_instanciation\u001b[0m \u001b[0;34m=\u001b[0m \u001b[0;34m[\u001b[0m\u001b[0mw\u001b[0m \u001b[0;32mfor\u001b[0m \u001b[0mw\u001b[0m \u001b[0;32min\u001b[0m \u001b[0mwords\u001b[0m \u001b[0;32mif\u001b[0m \u001b[0mw\u001b[0m\u001b[0;34m[\u001b[0m\u001b[0;34m:\u001b[0m\u001b[0mmax\u001b[0m\u001b[0;34m(\u001b[0m\u001b[0minstanciation\u001b[0m\u001b[0;34m.\u001b[0m\u001b[0mkeys\u001b[0m\u001b[0;34m(\u001b[0m\u001b[0;34m)\u001b[0m\u001b[0;34m)\u001b[0m \u001b[0;34m+\u001b[0m \u001b[0;36m1\u001b[0m\u001b[0;34m]\u001b[0m \u001b[0;34m==\u001b[0m \u001b[0mbuild_word_from_instanciation\u001b[0m\u001b[0;34m(\u001b[0m\u001b[0minstanciation\u001b[0m\u001b[0;34m)\u001b[0m \u001b[0;32mand\u001b[0m \u001b[0mlen\u001b[0m\u001b[0;34m(\u001b[0m\u001b[0mw\u001b[0m\u001b[0;34m)\u001b[0m \u001b[0;34m==\u001b[0m \u001b[0mlen\u001b[0m\u001b[0;34m(\u001b[0m\u001b[0msecret_word\u001b[0m\u001b[0;34m)\u001b[0m\u001b[0;34m]\u001b[0m\u001b[0;34m\u001b[0m\u001b[0;34m\u001b[0m\u001b[0m\n\u001b[0m\u001b[1;32m      3\u001b[0m     \u001b[0;31m# print(valid_words_from_instanciation)\u001b[0m\u001b[0;34m\u001b[0m\u001b[0;34m\u001b[0m\u001b[0;34m\u001b[0m\u001b[0m\n\u001b[1;32m      4\u001b[0m \u001b[0;34m\u001b[0m\u001b[0m\n\u001b[1;32m      5\u001b[0m     \u001b[0mcompatible_words\u001b[0m \u001b[0;34m=\u001b[0m \u001b[0;34m[\u001b[0m\u001b[0;34m]\u001b[0m\u001b[0;34m\u001b[0m\u001b[0;34m\u001b[0m\u001b[0m\n",
      "\u001b[0;32m/tmp/ipykernel_8082/2304283342.py\u001b[0m in \u001b[0;36m<listcomp>\u001b[0;34m(.0)\u001b[0m\n\u001b[1;32m      1\u001b[0m \u001b[0;32mdef\u001b[0m \u001b[0mcheck_compatible\u001b[0m\u001b[0;34m(\u001b[0m\u001b[0minstanciation\u001b[0m\u001b[0;34m,\u001b[0m \u001b[0mwords\u001b[0m\u001b[0;34m,\u001b[0m \u001b[0mproposed_words\u001b[0m\u001b[0;34m,\u001b[0m \u001b[0msecret_word\u001b[0m\u001b[0;34m,\u001b[0m \u001b[0mdomains\u001b[0m\u001b[0;34m)\u001b[0m\u001b[0;34m:\u001b[0m\u001b[0;34m\u001b[0m\u001b[0;34m\u001b[0m\u001b[0m\n\u001b[0;32m----> 2\u001b[0;31m     \u001b[0mvalid_words_from_instanciation\u001b[0m \u001b[0;34m=\u001b[0m \u001b[0;34m[\u001b[0m\u001b[0mw\u001b[0m \u001b[0;32mfor\u001b[0m \u001b[0mw\u001b[0m \u001b[0;32min\u001b[0m \u001b[0mwords\u001b[0m \u001b[0;32mif\u001b[0m \u001b[0mw\u001b[0m\u001b[0;34m[\u001b[0m\u001b[0;34m:\u001b[0m\u001b[0mmax\u001b[0m\u001b[0;34m(\u001b[0m\u001b[0minstanciation\u001b[0m\u001b[0;34m.\u001b[0m\u001b[0mkeys\u001b[0m\u001b[0;34m(\u001b[0m\u001b[0;34m)\u001b[0m\u001b[0;34m)\u001b[0m \u001b[0;34m+\u001b[0m \u001b[0;36m1\u001b[0m\u001b[0;34m]\u001b[0m \u001b[0;34m==\u001b[0m \u001b[0mbuild_word_from_instanciation\u001b[0m\u001b[0;34m(\u001b[0m\u001b[0minstanciation\u001b[0m\u001b[0;34m)\u001b[0m \u001b[0;32mand\u001b[0m \u001b[0mlen\u001b[0m\u001b[0;34m(\u001b[0m\u001b[0mw\u001b[0m\u001b[0;34m)\u001b[0m \u001b[0;34m==\u001b[0m \u001b[0mlen\u001b[0m\u001b[0;34m(\u001b[0m\u001b[0msecret_word\u001b[0m\u001b[0;34m)\u001b[0m\u001b[0;34m]\u001b[0m\u001b[0;34m\u001b[0m\u001b[0;34m\u001b[0m\u001b[0m\n\u001b[0m\u001b[1;32m      3\u001b[0m     \u001b[0;31m# print(valid_words_from_instanciation)\u001b[0m\u001b[0;34m\u001b[0m\u001b[0;34m\u001b[0m\u001b[0;34m\u001b[0m\u001b[0m\n\u001b[1;32m      4\u001b[0m \u001b[0;34m\u001b[0m\u001b[0m\n\u001b[1;32m      5\u001b[0m     \u001b[0mcompatible_words\u001b[0m \u001b[0;34m=\u001b[0m \u001b[0;34m[\u001b[0m\u001b[0;34m]\u001b[0m\u001b[0;34m\u001b[0m\u001b[0;34m\u001b[0m\u001b[0m\n",
      "\u001b[0;31mKeyboardInterrupt\u001b[0m: "
     ]
    }
   ],
   "source": [
    "import time\n",
    "from collections import defaultdict\n",
    "\n",
    "n_try = defaultdict(lambda :0)\n",
    "times = defaultdict(lambda :0)\n",
    "\n",
    "for n in range(4, 10):\n",
    "    print(f\"{n}:\")\n",
    "    for i in range(20):\n",
    "        if i % 5 == 0:\n",
    "            print(\"+\")\n",
    "        else:\n",
    "            print(\".\")\n",
    "        secret_word = get_secret_word(words, n)\n",
    "        start = time.time()\n",
    "        n_try[n] += solve_worlde(secret_word, verbose=False)\n",
    "        times[n] += time.time() - start\n",
    "\n",
    "\n"
   ]
  }
 ],
 "metadata": {
  "interpreter": {
   "hash": "844be12b3cb3c3029260a62c81ea7c4b4e94f45ac5dd5252fca71d8570bc4e91"
  },
  "kernelspec": {
   "display_name": "Python 3.7.11 ('ml')",
   "language": "python",
   "name": "python3"
  },
  "language_info": {
   "codemirror_mode": {
    "name": "ipython",
    "version": 3
   },
   "file_extension": ".py",
   "mimetype": "text/x-python",
   "name": "python",
   "nbconvert_exporter": "python",
   "pygments_lexer": "ipython3",
   "version": "3.7.11"
  },
  "orig_nbformat": 4
 },
 "nbformat": 4,
 "nbformat_minor": 2
}
